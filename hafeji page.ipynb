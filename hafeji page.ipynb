{
 "cells": [
  {
   "cell_type": "markdown",
   "id": "6d2e7902-e0bd-4113-a525-ecd3135276b2",
   "metadata": {},
   "source": [
    "# Hafeji Quran page json\n",
    "\n",
    "This library is used for generating json file for hafeji format\n",
    "\n",
    "Hafeji quran starts with page no. 2, consisting of 611 pages total\n",
    "This format is widely popular in PakIndo subcontinant\n",
    "\n",
    "In other country this format is known as IndoPak/Asian format"
   ]
  },
  {
   "cell_type": "code",
   "execution_count": 4,
   "id": "c0adf560-4c96-43da-b999-f74d315aa9b2",
   "metadata": {},
   "outputs": [],
   "source": [
    "# https://stackoverflow.com/a/60944949/8229399\n",
    "\n",
    "import xlrd\n",
    "from collections import OrderedDict\n",
    "import json\n",
    "\n",
    "wb = xlrd.open_workbook(\"page.xls\")\n",
    "sh = wb.sheet_by_index(0)"
   ]
  },
  {
   "cell_type": "code",
   "execution_count": 10,
   "id": "3ccd50ab-f022-4bfe-a2d2-b27a61df90e1",
   "metadata": {
    "tags": []
   },
   "outputs": [
    {
     "data": {
      "text/plain": [
       "{'index': '001',\n",
       " 'start': {'surah': 'surah_0', 'verse': 'verse_0'},\n",
       " 'end': {'surah': 'surah_0', 'verse': 'verse_0'}}"
      ]
     },
     "execution_count": 10,
     "metadata": {},
     "output_type": "execute_result"
    }
   ],
   "source": [
    "page_data = []\n",
    "\n",
    "for row in range(2, sh.nrows):\n",
    "    index = f'{int(sh.row_values(row)[0])}'.zfill(3)\n",
    "    \n",
    "    start = {}\n",
    "    end = {}\n",
    "    \n",
    "    start['surah'] = f'surah_{int(sh.row_values(row)[1])}'\n",
    "    start['verse'] = f'verse_{int(sh.row_values(row)[2])}'\n",
    "    end['surah'] = f'surah_{int(sh.row_values(row)[3])}'\n",
    "    end['verse'] = f'verse_{int(sh.row_values(row)[4])}'\n",
    "    \n",
    "    data = {}\n",
    "    data['index'] = index\n",
    "    data['start'] = start\n",
    "    data['end'] = end\n",
    "    \n",
    "    page_data.append(data)\n",
    "    \n",
    "page_data[0]"
   ]
  },
  {
   "cell_type": "code",
   "execution_count": 11,
   "id": "136b64ec-6e55-4db4-9c17-4b17d46bdaec",
   "metadata": {
    "tags": []
   },
   "outputs": [],
   "source": [
    "import json\n",
    "\n",
    "with open(\"page_info.json\", \"w\", encoding=\"utf-8\") as writeJsonfile:\n",
    "    json.dump(page_data, writeJsonfile, indent=4,default=str) "
   ]
  }
 ],
 "metadata": {
  "kernelspec": {
   "display_name": "Python 3",
   "language": "python",
   "name": "python3"
  },
  "language_info": {
   "codemirror_mode": {
    "name": "ipython",
    "version": 3
   },
   "file_extension": ".py",
   "mimetype": "text/x-python",
   "name": "python",
   "nbconvert_exporter": "python",
   "pygments_lexer": "ipython3",
   "version": "3.9.1"
  }
 },
 "nbformat": 4,
 "nbformat_minor": 5
}
